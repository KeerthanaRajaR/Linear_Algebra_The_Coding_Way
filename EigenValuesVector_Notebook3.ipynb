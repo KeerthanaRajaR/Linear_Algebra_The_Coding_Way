{
  "nbformat": 4,
  "nbformat_minor": 0,
  "metadata": {
    "colab": {
      "provenance": [],
      "authorship_tag": "ABX9TyOXI1VdMNe2szgThV9D/5Ql",
      "include_colab_link": true
    },
    "kernelspec": {
      "name": "python3",
      "display_name": "Python 3"
    },
    "language_info": {
      "name": "python"
    }
  },
  "cells": [
    {
      "cell_type": "markdown",
      "metadata": {
        "id": "view-in-github",
        "colab_type": "text"
      },
      "source": [
        "<a href=\"https://colab.research.google.com/github/KeerthanaRajaR/Linear_Algebra_The_Coding_Way/blob/main/EigenValuesVector_Notebook3.ipynb\" target=\"_parent\"><img src=\"https://colab.research.google.com/assets/colab-badge.svg\" alt=\"Open In Colab\"/></a>"
      ]
    },
    {
      "cell_type": "code",
      "execution_count": null,
      "metadata": {
        "colab": {
          "base_uri": "https://localhost:8080/",
          "height": 73
        },
        "id": "zO0JnF-5d_As",
        "outputId": "fd9cf779-05c3-440a-bff3-de7db210a34d"
      },
      "outputs": [
        {
          "output_type": "display_data",
          "data": {
            "text/plain": [
              "<IPython.core.display.HTML object>"
            ],
            "text/html": [
              "\n",
              "     <input type=\"file\" id=\"files-bde94db8-3fc8-49d5-971e-e7dd92746942\" name=\"files[]\" multiple disabled\n",
              "        style=\"border:none\" />\n",
              "     <output id=\"result-bde94db8-3fc8-49d5-971e-e7dd92746942\">\n",
              "      Upload widget is only available when the cell has been executed in the\n",
              "      current browser session. Please rerun this cell to enable.\n",
              "      </output>\n",
              "      <script>// Copyright 2017 Google LLC\n",
              "//\n",
              "// Licensed under the Apache License, Version 2.0 (the \"License\");\n",
              "// you may not use this file except in compliance with the License.\n",
              "// You may obtain a copy of the License at\n",
              "//\n",
              "//      http://www.apache.org/licenses/LICENSE-2.0\n",
              "//\n",
              "// Unless required by applicable law or agreed to in writing, software\n",
              "// distributed under the License is distributed on an \"AS IS\" BASIS,\n",
              "// WITHOUT WARRANTIES OR CONDITIONS OF ANY KIND, either express or implied.\n",
              "// See the License for the specific language governing permissions and\n",
              "// limitations under the License.\n",
              "\n",
              "/**\n",
              " * @fileoverview Helpers for google.colab Python module.\n",
              " */\n",
              "(function(scope) {\n",
              "function span(text, styleAttributes = {}) {\n",
              "  const element = document.createElement('span');\n",
              "  element.textContent = text;\n",
              "  for (const key of Object.keys(styleAttributes)) {\n",
              "    element.style[key] = styleAttributes[key];\n",
              "  }\n",
              "  return element;\n",
              "}\n",
              "\n",
              "// Max number of bytes which will be uploaded at a time.\n",
              "const MAX_PAYLOAD_SIZE = 100 * 1024;\n",
              "\n",
              "function _uploadFiles(inputId, outputId) {\n",
              "  const steps = uploadFilesStep(inputId, outputId);\n",
              "  const outputElement = document.getElementById(outputId);\n",
              "  // Cache steps on the outputElement to make it available for the next call\n",
              "  // to uploadFilesContinue from Python.\n",
              "  outputElement.steps = steps;\n",
              "\n",
              "  return _uploadFilesContinue(outputId);\n",
              "}\n",
              "\n",
              "// This is roughly an async generator (not supported in the browser yet),\n",
              "// where there are multiple asynchronous steps and the Python side is going\n",
              "// to poll for completion of each step.\n",
              "// This uses a Promise to block the python side on completion of each step,\n",
              "// then passes the result of the previous step as the input to the next step.\n",
              "function _uploadFilesContinue(outputId) {\n",
              "  const outputElement = document.getElementById(outputId);\n",
              "  const steps = outputElement.steps;\n",
              "\n",
              "  const next = steps.next(outputElement.lastPromiseValue);\n",
              "  return Promise.resolve(next.value.promise).then((value) => {\n",
              "    // Cache the last promise value to make it available to the next\n",
              "    // step of the generator.\n",
              "    outputElement.lastPromiseValue = value;\n",
              "    return next.value.response;\n",
              "  });\n",
              "}\n",
              "\n",
              "/**\n",
              " * Generator function which is called between each async step of the upload\n",
              " * process.\n",
              " * @param {string} inputId Element ID of the input file picker element.\n",
              " * @param {string} outputId Element ID of the output display.\n",
              " * @return {!Iterable<!Object>} Iterable of next steps.\n",
              " */\n",
              "function* uploadFilesStep(inputId, outputId) {\n",
              "  const inputElement = document.getElementById(inputId);\n",
              "  inputElement.disabled = false;\n",
              "\n",
              "  const outputElement = document.getElementById(outputId);\n",
              "  outputElement.innerHTML = '';\n",
              "\n",
              "  const pickedPromise = new Promise((resolve) => {\n",
              "    inputElement.addEventListener('change', (e) => {\n",
              "      resolve(e.target.files);\n",
              "    });\n",
              "  });\n",
              "\n",
              "  const cancel = document.createElement('button');\n",
              "  inputElement.parentElement.appendChild(cancel);\n",
              "  cancel.textContent = 'Cancel upload';\n",
              "  const cancelPromise = new Promise((resolve) => {\n",
              "    cancel.onclick = () => {\n",
              "      resolve(null);\n",
              "    };\n",
              "  });\n",
              "\n",
              "  // Wait for the user to pick the files.\n",
              "  const files = yield {\n",
              "    promise: Promise.race([pickedPromise, cancelPromise]),\n",
              "    response: {\n",
              "      action: 'starting',\n",
              "    }\n",
              "  };\n",
              "\n",
              "  cancel.remove();\n",
              "\n",
              "  // Disable the input element since further picks are not allowed.\n",
              "  inputElement.disabled = true;\n",
              "\n",
              "  if (!files) {\n",
              "    return {\n",
              "      response: {\n",
              "        action: 'complete',\n",
              "      }\n",
              "    };\n",
              "  }\n",
              "\n",
              "  for (const file of files) {\n",
              "    const li = document.createElement('li');\n",
              "    li.append(span(file.name, {fontWeight: 'bold'}));\n",
              "    li.append(span(\n",
              "        `(${file.type || 'n/a'}) - ${file.size} bytes, ` +\n",
              "        `last modified: ${\n",
              "            file.lastModifiedDate ? file.lastModifiedDate.toLocaleDateString() :\n",
              "                                    'n/a'} - `));\n",
              "    const percent = span('0% done');\n",
              "    li.appendChild(percent);\n",
              "\n",
              "    outputElement.appendChild(li);\n",
              "\n",
              "    const fileDataPromise = new Promise((resolve) => {\n",
              "      const reader = new FileReader();\n",
              "      reader.onload = (e) => {\n",
              "        resolve(e.target.result);\n",
              "      };\n",
              "      reader.readAsArrayBuffer(file);\n",
              "    });\n",
              "    // Wait for the data to be ready.\n",
              "    let fileData = yield {\n",
              "      promise: fileDataPromise,\n",
              "      response: {\n",
              "        action: 'continue',\n",
              "      }\n",
              "    };\n",
              "\n",
              "    // Use a chunked sending to avoid message size limits. See b/62115660.\n",
              "    let position = 0;\n",
              "    do {\n",
              "      const length = Math.min(fileData.byteLength - position, MAX_PAYLOAD_SIZE);\n",
              "      const chunk = new Uint8Array(fileData, position, length);\n",
              "      position += length;\n",
              "\n",
              "      const base64 = btoa(String.fromCharCode.apply(null, chunk));\n",
              "      yield {\n",
              "        response: {\n",
              "          action: 'append',\n",
              "          file: file.name,\n",
              "          data: base64,\n",
              "        },\n",
              "      };\n",
              "\n",
              "      let percentDone = fileData.byteLength === 0 ?\n",
              "          100 :\n",
              "          Math.round((position / fileData.byteLength) * 100);\n",
              "      percent.textContent = `${percentDone}% done`;\n",
              "\n",
              "    } while (position < fileData.byteLength);\n",
              "  }\n",
              "\n",
              "  // All done.\n",
              "  yield {\n",
              "    response: {\n",
              "      action: 'complete',\n",
              "    }\n",
              "  };\n",
              "}\n",
              "\n",
              "scope.google = scope.google || {};\n",
              "scope.google.colab = scope.google.colab || {};\n",
              "scope.google.colab._files = {\n",
              "  _uploadFiles,\n",
              "  _uploadFilesContinue,\n",
              "};\n",
              "})(self);\n",
              "</script> "
            ]
          },
          "metadata": {}
        },
        {
          "output_type": "stream",
          "name": "stdout",
          "text": [
            "Saving eigenass3.jpg to eigenass3.jpg\n"
          ]
        }
      ],
      "source": [
        "from google.colab import files\n",
        "from IPython.display import Image\n",
        "\n",
        "uploaded=files.upload()\n",
        "\n"
      ]
    },
    {
      "cell_type": "code",
      "source": [
        "Image('eigenass3.jpg',\n",
        "      width=650)\n"
      ],
      "metadata": {
        "colab": {
          "base_uri": "https://localhost:8080/",
          "height": 408
        },
        "id": "hIfg0Wx8erUn",
        "outputId": "23e8d167-a4b9-4940-8997-8192fac1fa19"
      },
      "execution_count": null,
      "outputs": [
        {
          "output_type": "execute_result",
          "data": {
            "image/jpeg": "[encoded data removed]",
            "text/plain": [
              "<IPython.core.display.Image object>"
            ]
          },
          "metadata": {
            "image/jpeg": {
              "width": 650
            }
          },
          "execution_count": 4
        }
      ]
    },
    {
      "cell_type": "code",
      "source": [
        "The problem statement involves two main tasks:\n",
        "\n",
        "1.Calculating the Inverse of Matrix A:\n",
        "          Given a square matrix A, the goal is to find its inverse. The inverse of a square matrix A, if it exists, is another matrix denoted as A^-1, such that when A is multiplied by its inverse (A^-1), the result is the identity matrix (I).\n",
        "2.Computing the Product of Matrix A and its Inverse:\n",
        "          After calculating the inverse of matrix A, the second task is to compute the product of matrix A and its inverse, i.e., A * A^-1. According to matrix multiplication rules, the product of a matrix and its inverse should result in the identity matrix.\n",
        "\n",
        "          Both tasks are to be accomplished without using any built-in Python functions for calculating matrix inverses or matrix products. Instead, manual methods such as the Gauss-Jordan elimination method for finding inverses and conventional matrix multiplication for computing products should be employed."
      ],
      "metadata": {
        "id": "sbvEiyD9e9oJ"
      },
      "execution_count": null,
      "outputs": []
    },
    {
      "cell_type": "code",
      "source": [
        "# Define the matrix A\n",
        "A = [[0, 1, 2], [1, 0, 3], [4, -3, 8]]\n",
        "\n",
        "# Function to calculate the inverse of a matrix\n",
        "def inverse(matrix):\n",
        "    n = len(matrix)\n",
        "\n",
        "    # Augmenting the matrix with the identity matrix of the same size\n",
        "    augmented_matrix = [row + [1 if i == j else 0 for j in range(n)] for i, row in enumerate(matrix)]\n",
        "\n",
        "    # Perform row operations to transform the left side into identity matrix\n",
        "    for i in range(n):\n",
        "        # Pivot if the diagonal element is zero\n",
        "        if augmented_matrix[i][i] == 0:\n",
        "            for j in range(i+1, n):\n",
        "                if augmented_matrix[j][i] != 0:\n",
        "                    augmented_matrix[i], augmented_matrix[j] = augmented_matrix[j], augmented_matrix[i]\n",
        "                    break\n",
        "            else:\n",
        "                print(\"Matrix is singular. Inverse does not exist.\")\n",
        "                return None\n",
        "\n",
        "        # Making the diagonal element 1\n",
        "        div = augmented_matrix[i][i]\n",
        "        for j in range(2 * n):\n",
        "            augmented_matrix[i][j] /= div\n",
        "        # Subtracting multiples of the current row from other rows\n",
        "        for j in range(n):\n",
        "            if i != j:\n",
        "                factor = augmented_matrix[j][i]\n",
        "                for k in range(2 * n):\n",
        "                    augmented_matrix[j][k] -= factor * augmented_matrix[i][k]\n",
        "\n",
        "    # Extracting the inverse matrix from the augmented matrix\n",
        "    inverse_matrix = [row[n:] for row in augmented_matrix]\n",
        "    return inverse_matrix\n",
        "\n",
        "# Function to calculate the product of two matrices\n",
        "def matrix_product(matrix1, matrix2):\n",
        "    n = len(matrix1)\n",
        "    result = [[sum(matrix1[i][k] * matrix2[k][j] for k in range(n)) for j in range(n)] for i in range(n)]\n",
        "    return result\n",
        "\n",
        "# Calculate the inverse of matrix A\n",
        "A_inverse = inverse(A)\n",
        "if A_inverse:\n",
        "    print(\"Inverse of matrix A:\")\n",
        "    for row in A_inverse:\n",
        "        print(row)\n",
        "\n",
        "\n",
        "Inverse of matrix A:\n",
        "[-4.5, 7.0, -1.5]\n",
        "[-2.0, 4.0, -1.0]\n",
        "[1.5, -2.0, 0.5]\n",
        "\n",
        "# Calculate the product of A and its inverse\n",
        "product = matrix_product(A, A_inverse)\n",
        "if product:\n",
        "    print(\"\\nProduct of A and its inverse:\")\n",
        "    for row in product:\n",
        "        print(row)\n",
        "\n",
        "\n",
        "Product of A and its inverse:\n",
        "[1.0, 0.0, 0.0]\n",
        "[0.0, 1.0, 0.0]\n",
        "[0.0, 0.0, 1.0]\n"
      ],
      "metadata": {
        "id": "84__Ic39f0Sa"
      },
      "execution_count": null,
      "outputs": []
    },
    {
      "cell_type": "markdown",
      "source": [],
      "metadata": {
        "id": "NxX5UkTlgqc4"
      }
    }
  ]
}